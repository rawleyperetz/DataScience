{
  "nbformat": 4,
  "nbformat_minor": 0,
  "metadata": {
    "colab": {
      "provenance": []
    },
    "kernelspec": {
      "name": "python3",
      "display_name": "Python 3"
    },
    "language_info": {
      "name": "python"
    }
  },
  "cells": [
    {
      "cell_type": "code",
      "execution_count": null,
      "metadata": {
        "id": "1aY3EGYgdWrP"
      },
      "outputs": [],
      "source": [
        "with open('/content/thelittlelady.txt', 'r') as file:\n",
        "  content = file.read()"
      ]
    },
    {
      "cell_type": "code",
      "source": [
        "print(content)"
      ],
      "metadata": {
        "colab": {
          "base_uri": "https://localhost:8080/"
        },
        "id": "42EAO6d9dcgp",
        "outputId": "63c9123d-a898-4be1-9852-3b0845bb353c"
      },
      "execution_count": null,
      "outputs": [
        {
          "output_type": "stream",
          "name": "stdout",
          "text": [
            "     O The Little Lady's dainty\n",
            "        As the picture in a book,\n",
            "     And her hands are creamy-whiter\n",
            "        Than the water-lilies look;\n",
            "     Her laugh's the undrown'd music\n",
            "        Of the maddest meadow-brook. -\n",
            "     Yet all in vain I praise The Little Lady!\n",
            "\n",
            "     Her eyes are blue and dewy\n",
            "        As the glimmering Summer-dawn, -\n",
            "     Her face is like the eglantine\n",
            "        Before the dew is gone;\n",
            "     And were that honied mouth of hers\n",
            "        A bee's to feast upon,\n",
            "     He'd be a bee bewildered, Little Lady!\n",
            "\n",
            "     Her brow makes light look sallow;\n",
            "        And the sunshine, I declare,\n",
            "     Is but a yellow jealousy\n",
            "        Awakened by her hair -\n",
            "     For O the dazzling glint of it\n",
            "        Nor sight nor soul can bear, -\n",
            "     So Love goes groping for The Little Lady.\n",
            "\n",
            "\n",
            "     And yet she's neither Nymph nor Fay,\n",
            "        Nor yet of Angelkind: -\n",
            "     She's but a racing school-girl, with\n",
            "        Her hair blown out behind\n",
            "     And tremblingly unbraided by\n",
            "        The fingers of the Wind,\n",
            "     As it wildly swoops upon The Little Lady.\n"
          ]
        }
      ]
    },
    {
      "cell_type": "code",
      "source": [
        "import re\n",
        "\n",
        "def cleaning_text(text):\n",
        "  text = text.strip().lower()\n",
        "  text = re.sub(r'[^\\w\\s]','', text)\n",
        "  return text"
      ],
      "metadata": {
        "id": "0pWdjlCLfbQq"
      },
      "execution_count": null,
      "outputs": []
    },
    {
      "cell_type": "code",
      "source": [
        "content = cleaning_text(content).split(' ')"
      ],
      "metadata": {
        "id": "ZvjATxUmg6cm"
      },
      "execution_count": null,
      "outputs": []
    },
    {
      "cell_type": "code",
      "source": [
        "print(content)"
      ],
      "metadata": {
        "colab": {
          "base_uri": "https://localhost:8080/"
        },
        "id": "tYQd12rFhCB3",
        "outputId": "c3fdd07a-d6b8-45d3-c126-2cbad8896ada"
      },
      "execution_count": null,
      "outputs": [
        {
          "output_type": "stream",
          "name": "stdout",
          "text": [
            "['o', 'the', 'little', 'ladys', 'dainty\\n', '', '', '', '', '', '', '', 'as', 'the', 'picture', 'in', 'a', 'book\\n', '', '', '', '', 'and', 'her', 'hands', 'are', 'creamywhiter\\n', '', '', '', '', '', '', '', 'than', 'the', 'waterlilies', 'look\\n', '', '', '', '', 'her', 'laughs', 'the', 'undrownd', 'music\\n', '', '', '', '', '', '', '', 'of', 'the', 'maddest', 'meadowbrook', '\\n', '', '', '', '', 'yet', 'all', 'in', 'vain', 'i', 'praise', 'the', 'little', 'lady\\n\\n', '', '', '', '', 'her', 'eyes', 'are', 'blue', 'and', 'dewy\\n', '', '', '', '', '', '', '', 'as', 'the', 'glimmering', 'summerdawn', '\\n', '', '', '', '', 'her', 'face', 'is', 'like', 'the', 'eglantine\\n', '', '', '', '', '', '', '', 'before', 'the', 'dew', 'is', 'gone\\n', '', '', '', '', 'and', 'were', 'that', 'honied', 'mouth', 'of', 'hers\\n', '', '', '', '', '', '', '', 'a', 'bees', 'to', 'feast', 'upon\\n', '', '', '', '', 'hed', 'be', 'a', 'bee', 'bewildered', 'little', 'lady\\n\\n', '', '', '', '', 'her', 'brow', 'makes', 'light', 'look', 'sallow\\n', '', '', '', '', '', '', '', 'and', 'the', 'sunshine', 'i', 'declare\\n', '', '', '', '', 'is', 'but', 'a', 'yellow', 'jealousy\\n', '', '', '', '', '', '', '', 'awakened', 'by', 'her', 'hair', '\\n', '', '', '', '', 'for', 'o', 'the', 'dazzling', 'glint', 'of', 'it\\n', '', '', '', '', '', '', '', 'nor', 'sight', 'nor', 'soul', 'can', 'bear', '\\n', '', '', '', '', 'so', 'love', 'goes', 'groping', 'for', 'the', 'little', 'lady\\n\\n\\n', '', '', '', '', 'and', 'yet', 'shes', 'neither', 'nymph', 'nor', 'fay\\n', '', '', '', '', '', '', '', 'nor', 'yet', 'of', 'angelkind', '\\n', '', '', '', '', 'shes', 'but', 'a', 'racing', 'schoolgirl', 'with\\n', '', '', '', '', '', '', '', 'her', 'hair', 'blown', 'out', 'behind\\n', '', '', '', '', 'and', 'tremblingly', 'unbraided', 'by\\n', '', '', '', '', '', '', '', 'the', 'fingers', 'of', 'the', 'wind\\n', '', '', '', '', 'as', 'it', 'wildly', 'swoops', 'upon', 'the', 'little', 'lady']\n"
          ]
        }
      ]
    },
    {
      "cell_type": "code",
      "source": [
        "poem_content = [elem for elem in content if elem != '' ]"
      ],
      "metadata": {
        "id": "0KFpAaTwhZEy"
      },
      "execution_count": null,
      "outputs": []
    },
    {
      "cell_type": "code",
      "source": [
        "poem_content = list(map(lambda s: s.strip(), poem_content))\n",
        "print(poem_content)"
      ],
      "metadata": {
        "id": "YXNmHIeQiNfJ"
      },
      "execution_count": null,
      "outputs": []
    },
    {
      "cell_type": "code",
      "source": [
        "poem_content = [elem for elem in poem_content if elem != '']"
      ],
      "metadata": {
        "id": "YUYuovpKi7MX"
      },
      "execution_count": null,
      "outputs": []
    },
    {
      "cell_type": "code",
      "source": [
        "print(poem_content)"
      ],
      "metadata": {
        "colab": {
          "base_uri": "https://localhost:8080/"
        },
        "id": "heQ6YHTDpXyP",
        "outputId": "1b0aef47-dc03-428c-9d41-390f89c96d99"
      },
      "execution_count": null,
      "outputs": [
        {
          "output_type": "stream",
          "name": "stdout",
          "text": [
            "['o', 'the', 'little', 'ladys', 'dainty', 'as', 'the', 'picture', 'in', 'a', 'book', 'and', 'her', 'hands', 'are', 'creamywhiter', 'than', 'the', 'waterlilies', 'look', 'her', 'laughs', 'the', 'undrownd', 'music', 'of', 'the', 'maddest', 'meadowbrook', 'yet', 'all', 'in', 'vain', 'i', 'praise', 'the', 'little', 'lady', 'her', 'eyes', 'are', 'blue', 'and', 'dewy', 'as', 'the', 'glimmering', 'summerdawn', 'her', 'face', 'is', 'like', 'the', 'eglantine', 'before', 'the', 'dew', 'is', 'gone', 'and', 'were', 'that', 'honied', 'mouth', 'of', 'hers', 'a', 'bees', 'to', 'feast', 'upon', 'hed', 'be', 'a', 'bee', 'bewildered', 'little', 'lady', 'her', 'brow', 'makes', 'light', 'look', 'sallow', 'and', 'the', 'sunshine', 'i', 'declare', 'is', 'but', 'a', 'yellow', 'jealousy', 'awakened', 'by', 'her', 'hair', 'for', 'o', 'the', 'dazzling', 'glint', 'of', 'it', 'nor', 'sight', 'nor', 'soul', 'can', 'bear', 'so', 'love', 'goes', 'groping', 'for', 'the', 'little', 'lady', 'and', 'yet', 'shes', 'neither', 'nymph', 'nor', 'fay', 'nor', 'yet', 'of', 'angelkind', 'shes', 'but', 'a', 'racing', 'schoolgirl', 'with', 'her', 'hair', 'blown', 'out', 'behind', 'and', 'tremblingly', 'unbraided', 'by', 'the', 'fingers', 'of', 'the', 'wind', 'as', 'it', 'wildly', 'swoops', 'upon', 'the', 'little', 'lady']\n"
          ]
        }
      ]
    },
    {
      "cell_type": "code",
      "source": [
        "from nltk import bigrams\n",
        "poem_bigrams = list(bigrams(poem_content))"
      ],
      "metadata": {
        "id": "_F8PLrPCp0qj"
      },
      "execution_count": null,
      "outputs": []
    },
    {
      "cell_type": "code",
      "source": [
        "print(poem_bigrams)\n",
        "uniq_bigrams = list(set(poem_bigrams))\n",
        "dim_n = len(uniq_bigrams)"
      ],
      "metadata": {
        "colab": {
          "base_uri": "https://localhost:8080/"
        },
        "id": "7BZGVseSqiJp",
        "outputId": "77fb5246-84d4-4fb8-e4d0-4a21b5f87a35"
      },
      "execution_count": null,
      "outputs": [
        {
          "output_type": "stream",
          "name": "stdout",
          "text": [
            "[('o', 'the'), ('the', 'little'), ('little', 'ladys'), ('ladys', 'dainty'), ('dainty', 'as'), ('as', 'the'), ('the', 'picture'), ('picture', 'in'), ('in', 'a'), ('a', 'book'), ('book', 'and'), ('and', 'her'), ('her', 'hands'), ('hands', 'are'), ('are', 'creamywhiter'), ('creamywhiter', 'than'), ('than', 'the'), ('the', 'waterlilies'), ('waterlilies', 'look'), ('look', 'her'), ('her', 'laughs'), ('laughs', 'the'), ('the', 'undrownd'), ('undrownd', 'music'), ('music', 'of'), ('of', 'the'), ('the', 'maddest'), ('maddest', 'meadowbrook'), ('meadowbrook', 'yet'), ('yet', 'all'), ('all', 'in'), ('in', 'vain'), ('vain', 'i'), ('i', 'praise'), ('praise', 'the'), ('the', 'little'), ('little', 'lady'), ('lady', 'her'), ('her', 'eyes'), ('eyes', 'are'), ('are', 'blue'), ('blue', 'and'), ('and', 'dewy'), ('dewy', 'as'), ('as', 'the'), ('the', 'glimmering'), ('glimmering', 'summerdawn'), ('summerdawn', 'her'), ('her', 'face'), ('face', 'is'), ('is', 'like'), ('like', 'the'), ('the', 'eglantine'), ('eglantine', 'before'), ('before', 'the'), ('the', 'dew'), ('dew', 'is'), ('is', 'gone'), ('gone', 'and'), ('and', 'were'), ('were', 'that'), ('that', 'honied'), ('honied', 'mouth'), ('mouth', 'of'), ('of', 'hers'), ('hers', 'a'), ('a', 'bees'), ('bees', 'to'), ('to', 'feast'), ('feast', 'upon'), ('upon', 'hed'), ('hed', 'be'), ('be', 'a'), ('a', 'bee'), ('bee', 'bewildered'), ('bewildered', 'little'), ('little', 'lady'), ('lady', 'her'), ('her', 'brow'), ('brow', 'makes'), ('makes', 'light'), ('light', 'look'), ('look', 'sallow'), ('sallow', 'and'), ('and', 'the'), ('the', 'sunshine'), ('sunshine', 'i'), ('i', 'declare'), ('declare', 'is'), ('is', 'but'), ('but', 'a'), ('a', 'yellow'), ('yellow', 'jealousy'), ('jealousy', 'awakened'), ('awakened', 'by'), ('by', 'her'), ('her', 'hair'), ('hair', 'for'), ('for', 'o'), ('o', 'the'), ('the', 'dazzling'), ('dazzling', 'glint'), ('glint', 'of'), ('of', 'it'), ('it', 'nor'), ('nor', 'sight'), ('sight', 'nor'), ('nor', 'soul'), ('soul', 'can'), ('can', 'bear'), ('bear', 'so'), ('so', 'love'), ('love', 'goes'), ('goes', 'groping'), ('groping', 'for'), ('for', 'the'), ('the', 'little'), ('little', 'lady'), ('lady', 'and'), ('and', 'yet'), ('yet', 'shes'), ('shes', 'neither'), ('neither', 'nymph'), ('nymph', 'nor'), ('nor', 'fay'), ('fay', 'nor'), ('nor', 'yet'), ('yet', 'of'), ('of', 'angelkind'), ('angelkind', 'shes'), ('shes', 'but'), ('but', 'a'), ('a', 'racing'), ('racing', 'schoolgirl'), ('schoolgirl', 'with'), ('with', 'her'), ('her', 'hair'), ('hair', 'blown'), ('blown', 'out'), ('out', 'behind'), ('behind', 'and'), ('and', 'tremblingly'), ('tremblingly', 'unbraided'), ('unbraided', 'by'), ('by', 'the'), ('the', 'fingers'), ('fingers', 'of'), ('of', 'the'), ('the', 'wind'), ('wind', 'as'), ('as', 'it'), ('it', 'wildly'), ('wildly', 'swoops'), ('swoops', 'upon'), ('upon', 'the'), ('the', 'little'), ('little', 'lady')]\n"
          ]
        }
      ]
    },
    {
      "cell_type": "code",
      "source": [
        "print(dim_n)"
      ],
      "metadata": {
        "colab": {
          "base_uri": "https://localhost:8080/"
        },
        "id": "WhS5Gk2bs7U5",
        "outputId": "e55d95fe-b6eb-404d-ca1c-4e19b6b83fa7"
      },
      "execution_count": null,
      "outputs": [
        {
          "output_type": "stream",
          "name": "stdout",
          "text": [
            "145\n"
          ]
        }
      ]
    },
    {
      "cell_type": "code",
      "source": [
        "from scipy.sparse import csr_matrix\n"
      ],
      "metadata": {
        "id": "18iLVFolqo3i"
      },
      "execution_count": null,
      "outputs": []
    },
    {
      "cell_type": "code",
      "source": [
        "from collections import Counter\n",
        "# Count the occurrences of each bigram\n",
        "bigram_counts = Counter(poem_bigrams)\n",
        "\n",
        "# Count the occurrences of each word (unigram)\n",
        "word_counts = Counter(poem_content)\n",
        "\n",
        "# Initialize lists to store CSR matrix data\n",
        "rows = []\n",
        "cols = []\n",
        "data = []\n",
        "\n",
        "# Create word to index mapping\n",
        "word_to_index = {word: i for i, word in enumerate(word_counts.keys())}\n",
        "\n",
        "# Calculate the probabilities and fill in the CSR matrix data\n",
        "for (w1, w2), count in bigram_counts.items():\n",
        "    row = word_to_index[w1]\n",
        "    col = word_to_index[w2]\n",
        "    probability = count / word_counts[w1]\n",
        "\n",
        "    rows.append(row)\n",
        "    cols.append(col)\n",
        "    data.append(probability)\n",
        "\n",
        "# Number of unique words\n",
        "n_words = len(word_to_index)\n",
        "\n",
        "# Create the CSR matrix\n",
        "csr_prob_matrix = csr_matrix((data, (rows, cols)), shape=(n_words, n_words))\n",
        "\n",
        "#print(\"CSR Probability Matrix:\\n\", csr_prob_matrix)\n",
        "print(\"Matrix as Dense Array:\\n\", csr_prob_matrix.toarray())"
      ],
      "metadata": {
        "colab": {
          "base_uri": "https://localhost:8080/"
        },
        "id": "OsZBxbpgq_H6",
        "outputId": "e95c0a07-31fd-42e5-fa54-802aee8a8459"
      },
      "execution_count": null,
      "outputs": [
        {
          "output_type": "stream",
          "name": "stdout",
          "text": [
            "Matrix as Dense Array:\n",
            " [[0.         1.         0.         ... 0.         0.         0.        ]\n",
            " [0.         0.         0.26666667 ... 0.06666667 0.         0.        ]\n",
            " [0.         0.         0.         ... 0.         0.         0.        ]\n",
            " ...\n",
            " [0.         0.         0.         ... 0.         0.         0.        ]\n",
            " [0.         0.         0.         ... 0.         0.         1.        ]\n",
            " [0.         0.         0.         ... 0.         0.         0.        ]]\n"
          ]
        }
      ]
    },
    {
      "cell_type": "code",
      "source": [
        "import numpy as np\n",
        "def predict_next_word(current_word, csr_matrix, word_to_index):\n",
        "    if current_word not in word_to_index:\n",
        "        raise ValueError(f\"Word '{current_word}' not in vocabulary\")\n",
        "\n",
        "    # Get the row index for the current word\n",
        "    row_index = word_to_index[current_word]\n",
        "\n",
        "    # Extract the probabilities for the next words\n",
        "    probabilities = csr_matrix[row_index].toarray().flatten()\n",
        "\n",
        "    # Get the indices of the non-zero probabilities\n",
        "    next_word_indices = np.nonzero(probabilities)[0]\n",
        "\n",
        "    # Get the words corresponding to these indices\n",
        "    index_to_word = {i: word for word, i in word_to_index.items()}\n",
        "    next_words = [index_to_word[i] for i in next_word_indices]\n",
        "\n",
        "    # Get the probabilities for these next words\n",
        "    next_word_probabilities = probabilities[next_word_indices]\n",
        "\n",
        "    # Choose the next word based on the highest probability\n",
        "    next_word = next_words[np.argmax(next_word_probabilities)]\n",
        "\n",
        "    return next_word"
      ],
      "metadata": {
        "id": "y83mP0yWvs5H"
      },
      "execution_count": null,
      "outputs": []
    },
    {
      "cell_type": "code",
      "source": [
        "current_word = \"the\"\n",
        "next_word = predict_next_word(current_word, csr_prob_matrix, word_to_index)\n",
        "print(f\"Next word after '{current_word}' is '{next_word}'\")"
      ],
      "metadata": {
        "colab": {
          "base_uri": "https://localhost:8080/"
        },
        "id": "chfLoOx1vu9O",
        "outputId": "111175cd-bb79-4ee5-a319-07f73e877761"
      },
      "execution_count": null,
      "outputs": [
        {
          "output_type": "stream",
          "name": "stdout",
          "text": [
            "Next word after 'the' is 'little'\n"
          ]
        }
      ]
    },
    {
      "cell_type": "code",
      "source": [
        "current_word = 'jealousy'\n",
        "predictions = [current_word]\n",
        "for i in range(10):\n",
        "  next_word = predict_next_word(current_word, csr_prob_matrix, word_to_index)\n",
        "  predictions.append(next_word)\n",
        "  current_word = next_word\n",
        "\n",
        "print(predictions)"
      ],
      "metadata": {
        "colab": {
          "base_uri": "https://localhost:8080/"
        },
        "id": "ZcRcVkhQwBLo",
        "outputId": "23e2b3f0-d022-46d5-cdd2-cee7027fb6c3"
      },
      "execution_count": null,
      "outputs": [
        {
          "output_type": "stream",
          "name": "stdout",
          "text": [
            "['jealousy', 'awakened', 'by', 'the', 'little', 'lady', 'her', 'hair', 'for', 'o', 'the']\n"
          ]
        }
      ]
    }
  ]
}