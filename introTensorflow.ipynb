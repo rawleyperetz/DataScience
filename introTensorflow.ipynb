{
  "nbformat": 4,
  "nbformat_minor": 0,
  "metadata": {
    "colab": {
      "provenance": [],
      "authorship_tag": "ABX9TyMzmijB+gXgGSH8UshHfKRF",
      "include_colab_link": true
    },
    "kernelspec": {
      "name": "python3",
      "display_name": "Python 3"
    },
    "language_info": {
      "name": "python"
    }
  },
  "cells": [
    {
      "cell_type": "markdown",
      "metadata": {
        "id": "view-in-github",
        "colab_type": "text"
      },
      "source": [
        "<a href=\"https://colab.research.google.com/github/rawleyperetz/DeepLearningPython/blob/main/introTensorflow.ipynb\" target=\"_parent\"><img src=\"https://colab.research.google.com/assets/colab-badge.svg\" alt=\"Open In Colab\"/></a>"
      ]
    },
    {
      "cell_type": "code",
      "execution_count": null,
      "metadata": {
        "colab": {
          "base_uri": "https://localhost:8080/",
          "height": 35
        },
        "id": "HBKAUbhS-jAS",
        "outputId": "602e7ff5-51d4-4226-e682-9cb4454feeea"
      },
      "outputs": [
        {
          "output_type": "execute_result",
          "data": {
            "text/plain": [
              "'2.11.0'"
            ],
            "application/vnd.google.colaboratory.intrinsic+json": {
              "type": "string"
            }
          },
          "metadata": {},
          "execution_count": 1
        }
      ],
      "source": [
        "import tensorflow as tf\n",
        "tf.__version__"
      ]
    },
    {
      "cell_type": "code",
      "source": [
        "x = tf.constant(4)\n",
        "print(x)\n",
        "y = tf.ones((3,3))\n",
        "print(y)\n",
        "z = tf.zeros((3,3))\n",
        "print(z)\n",
        "ident = tf.eye(3)\n",
        "print(ident)"
      ],
      "metadata": {
        "colab": {
          "base_uri": "https://localhost:8080/"
        },
        "id": "6Uvpi2uBBztf",
        "outputId": "b7ea36c6-afaf-49a3-ac2f-47a7f066364c"
      },
      "execution_count": null,
      "outputs": [
        {
          "output_type": "stream",
          "name": "stdout",
          "text": [
            "tf.Tensor(4, shape=(), dtype=int32)\n",
            "tf.Tensor(\n",
            "[[1. 1. 1.]\n",
            " [1. 1. 1.]\n",
            " [1. 1. 1.]], shape=(3, 3), dtype=float32)\n",
            "tf.Tensor(\n",
            "[[0. 0. 0.]\n",
            " [0. 0. 0.]\n",
            " [0. 0. 0.]], shape=(3, 3), dtype=float32)\n",
            "tf.Tensor(\n",
            "[[1. 0. 0.]\n",
            " [0. 1. 0.]\n",
            " [0. 0. 1.]], shape=(3, 3), dtype=float32)\n"
          ]
        }
      ]
    },
    {
      "cell_type": "code",
      "source": [
        "# to get random values\n",
        "ran = tf.random.normal((3,3), mean = 0, stddev=1)\n",
        "print(ran)\n",
        "rand_range = tf.range(10)\n",
        "print(rand_range)"
      ],
      "metadata": {
        "colab": {
          "base_uri": "https://localhost:8080/"
        },
        "id": "fHrpsGhDDH0J",
        "outputId": "9712e5cb-dbd0-4a93-ba8b-602a3b542654"
      },
      "execution_count": null,
      "outputs": [
        {
          "output_type": "stream",
          "name": "stdout",
          "text": [
            "tf.Tensor(\n",
            "[[ 0.2540885   0.1732647  -0.28347212]\n",
            " [ 0.21346734  0.7633912  -0.2708311 ]\n",
            " [-1.6885234   0.27906528 -0.95252377]], shape=(3, 3), dtype=float32)\n",
            "tf.Tensor([0 1 2 3 4 5 6 7 8 9], shape=(10,), dtype=int32)\n"
          ]
        }
      ]
    },
    {
      "cell_type": "code",
      "source": [
        "# elementwise \n",
        "m = tf.constant([1,2,3])\n",
        "n = tf.constant([4,5,6])\n",
        "summon = tf.add(m,n)\n",
        "print(summon)\n",
        "subt = tf.subtract(m,n)\n",
        "print(subt)\n",
        "multi = tf.multiply(m,n)\n",
        "print(multi)\n",
        "dotprod = tf.tensordot(m,n,axes=1)\n",
        "print(dotprod)"
      ],
      "metadata": {
        "colab": {
          "base_uri": "https://localhost:8080/"
        },
        "id": "yETQMoclEj3u",
        "outputId": "20d252b3-f7ef-4b46-b307-f48dba3e2fa9"
      },
      "execution_count": null,
      "outputs": [
        {
          "output_type": "stream",
          "name": "stdout",
          "text": [
            "tf.Tensor([5 7 9], shape=(3,), dtype=int32)\n",
            "tf.Tensor([-3 -3 -3], shape=(3,), dtype=int32)\n",
            "tf.Tensor([ 4 10 18], shape=(3,), dtype=int32)\n",
            "tf.Tensor(32, shape=(), dtype=int32)\n"
          ]
        }
      ]
    },
    {
      "cell_type": "code",
      "source": [
        "# powers \n",
        "powered = m**3\n",
        "print(powered)"
      ],
      "metadata": {
        "colab": {
          "base_uri": "https://localhost:8080/"
        },
        "id": "mlcKGXNFFYxt",
        "outputId": "f8843895-e26e-49d0-a585-cc9285024606"
      },
      "execution_count": null,
      "outputs": [
        {
          "output_type": "stream",
          "name": "stdout",
          "text": [
            "tf.Tensor([ 1  8 27], shape=(3,), dtype=int32)\n"
          ]
        }
      ]
    },
    {
      "cell_type": "code",
      "source": [
        "# matrix multiplication\n",
        "first = tf.random.normal((2,2))\n",
        "second = tf.random.normal((2,2))\n",
        "mat_prod = tf.matmul(first,second)\n",
        "print(mat_prod)\n",
        "mat_prod2 = first @ second\n",
        "print(mat_prod2)\n",
        "# mat_prod has the same value as mat_prod2"
      ],
      "metadata": {
        "colab": {
          "base_uri": "https://localhost:8080/"
        },
        "id": "68vFpORRFyyI",
        "outputId": "c72a2166-5176-48db-8816-c26becddbfda"
      },
      "execution_count": null,
      "outputs": [
        {
          "output_type": "stream",
          "name": "stdout",
          "text": [
            "tf.Tensor(\n",
            "[[-2.6544995 -2.0038064]\n",
            " [ 1.8563445  1.4975083]], shape=(2, 2), dtype=float32)\n",
            "tf.Tensor(\n",
            "[[-2.6544995 -2.0038064]\n",
            " [ 1.8563445  1.4975083]], shape=(2, 2), dtype=float32)\n"
          ]
        }
      ]
    },
    {
      "cell_type": "code",
      "source": [
        "# reshaping tensors\n",
        "q = tf.random.normal((2,3))\n",
        "r = tf.reshape(q,(3,2))\n",
        "print(q)\n",
        "print(r)"
      ],
      "metadata": {
        "colab": {
          "base_uri": "https://localhost:8080/"
        },
        "id": "-l0tktxGHYh1",
        "outputId": "2a876d43-03d5-400e-96f3-8a1c4b9273b3"
      },
      "execution_count": null,
      "outputs": [
        {
          "output_type": "stream",
          "name": "stdout",
          "text": [
            "tf.Tensor(\n",
            "[[ 0.46844718 -0.25351256  0.4045743 ]\n",
            " [-1.3230609   0.74570173  0.03967757]], shape=(2, 3), dtype=float32)\n",
            "tf.Tensor(\n",
            "[[ 0.46844718 -0.25351256]\n",
            " [ 0.4045743  -1.3230609 ]\n",
            " [ 0.74570173  0.03967757]], shape=(3, 2), dtype=float32)\n"
          ]
        }
      ]
    },
    {
      "cell_type": "code",
      "source": [
        "# conversion of tensorflow object to numpy array\n",
        "x = tf.random.normal((3,3), mean = 0, stddev=2)\n",
        "y = x.numpy()\n",
        "print(type(y))\n",
        "\n",
        "#conversion back to tensor\n",
        "k = tf.convert_to_tensor(y)\n",
        "print(k)\n",
        "print(type(k))"
      ],
      "metadata": {
        "colab": {
          "base_uri": "https://localhost:8080/"
        },
        "id": "a937rL5xIIBY",
        "outputId": "70b439bc-1d85-4eed-f920-5fdd9c16b643"
      },
      "execution_count": null,
      "outputs": [
        {
          "output_type": "stream",
          "name": "stdout",
          "text": [
            "<class 'numpy.ndarray'>\n",
            "tf.Tensor(\n",
            "[[-1.1428164  -2.876308   -1.1342916 ]\n",
            " [ 0.90714836  0.98345864  0.87686753]\n",
            " [ 0.61325145  3.0376334   3.4949157 ]], shape=(3, 3), dtype=float32)\n",
            "<class 'tensorflow.python.framework.ops.EagerTensor'>\n"
          ]
        }
      ]
    }
  ]
}