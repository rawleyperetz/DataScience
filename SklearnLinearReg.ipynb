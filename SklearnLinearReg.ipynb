{
  "nbformat": 4,
  "nbformat_minor": 0,
  "metadata": {
    "colab": {
      "provenance": [],
      "authorship_tag": "ABX9TyO00C6wIoJa0nEYNCdSzbLV",
      "include_colab_link": true
    },
    "kernelspec": {
      "name": "python3",
      "display_name": "Python 3"
    },
    "language_info": {
      "name": "python"
    }
  },
  "cells": [
    {
      "cell_type": "markdown",
      "metadata": {
        "id": "view-in-github",
        "colab_type": "text"
      },
      "source": [
        "<a href=\"https://colab.research.google.com/github/rawleyperetz/DeepLearningPython/blob/main/SklearnLinearReg.ipynb\" target=\"_parent\"><img src=\"https://colab.research.google.com/assets/colab-badge.svg\" alt=\"Open In Colab\"/></a>"
      ]
    },
    {
      "cell_type": "code",
      "execution_count": null,
      "metadata": {
        "id": "VVdqy5uTqNXk"
      },
      "outputs": [],
      "source": [
        "from sklearn.linear_model import LinearRegression\n",
        "from sklearn.model_selection import train_test_split\n",
        "import pandas as pd"
      ]
    },
    {
      "cell_type": "code",
      "source": [
        "url = 'https://archive.ics.uci.edu/ml/machine-learning-databases/auto-mpg/auto-mpg.data'\n",
        "column_names = ['MPG', 'Cylinders','Displacement','Horsepower','Weight','Acceleration','Model Year','Origin']\n",
        "orig_data = pd.read_csv(url, names=column_names, comment='\\t', skipinitialspace=True, sep=' ')\n",
        "orig_data.dropna()\n",
        "print(len(orig_data))\n",
        "print(orig_data.head())\n",
        "\n",
        "#orig_data[orig_data[\"MPG\"].str.contains(\"?\") == False]\n",
        "#orig_data = orig_data[orig_data.str.contains(\"?\") == False]\n",
        "# print(orig_data.isnull().values.any())\n",
        "# print(orig_data.isna().sum().sum())"
      ],
      "metadata": {
        "colab": {
          "base_uri": "https://localhost:8080/"
        },
        "id": "Izkjt0P8qraS",
        "outputId": "81e50e9a-58ca-44b6-8031-c4cb3441489e"
      },
      "execution_count": null,
      "outputs": [
        {
          "output_type": "stream",
          "name": "stdout",
          "text": [
            "398\n",
            "    MPG  Cylinders  Displacement Horsepower  Weight  Acceleration  Model Year  \\\n",
            "0  18.0          8         307.0      130.0  3504.0          12.0          70   \n",
            "1  15.0          8         350.0      165.0  3693.0          11.5          70   \n",
            "2  18.0          8         318.0      150.0  3436.0          11.0          70   \n",
            "3  16.0          8         304.0      150.0  3433.0          12.0          70   \n",
            "4  17.0          8         302.0      140.0  3449.0          10.5          70   \n",
            "\n",
            "   Origin  \n",
            "0       1  \n",
            "1       1  \n",
            "2       1  \n",
            "3       1  \n",
            "4       1  \n"
          ]
        }
      ]
    },
    {
      "cell_type": "code",
      "source": [
        "count = 0\n",
        "q_marks = []\n",
        "for i in column_names: \n",
        "  #print(i)\n",
        "  if (orig_data[i].eq('?')).sum() > 0:\n",
        "      q_marks.append(i)\n",
        "      count = count + 1\n",
        "      continue\n",
        "print(count)\n",
        "print('==================')\n",
        "ind = []\n",
        "for j in range(len(orig_data)):\n",
        "  if orig_data.Horsepower[j] == '?':\n",
        "    print(j)\n",
        "    ind.append(j)\n",
        "\n",
        "orig_data.drop(ind,0,inplace=True)\n",
        "#print(orig_data)\n",
        "#orig_data[~orig_data.Horsepower.str.contains(\"?\")]\n",
        "#print(orig_data)\n"
      ],
      "metadata": {
        "colab": {
          "base_uri": "https://localhost:8080/"
        },
        "id": "qr2l6V7I-czo",
        "outputId": "52228ae4-6353-40bb-89ac-51195a0bec0d"
      },
      "execution_count": null,
      "outputs": [
        {
          "output_type": "stream",
          "name": "stdout",
          "text": [
            "1\n",
            "==================\n",
            "32\n",
            "126\n",
            "330\n",
            "336\n",
            "354\n",
            "374\n"
          ]
        },
        {
          "output_type": "stream",
          "name": "stderr",
          "text": [
            "<ipython-input-4-f12d30193d16>:17: FutureWarning: In a future version of pandas all arguments of DataFrame.drop except for the argument 'labels' will be keyword-only.\n",
            "  orig_data.drop(ind,0,inplace=True)\n"
          ]
        }
      ]
    },
    {
      "cell_type": "code",
      "source": [
        "#print(orig_data.head())\n",
        "y_val = orig_data['MPG']\n",
        "orig_data.pop('MPG')\n",
        "x_val = orig_data\n",
        "print(x_val.head())\n",
        "print(y_val.head())\n",
        "#print(orig_data.head())"
      ],
      "metadata": {
        "colab": {
          "base_uri": "https://localhost:8080/"
        },
        "id": "QiwEcpofurHL",
        "outputId": "ff59937d-b3ed-493a-a557-51b653a420f5"
      },
      "execution_count": null,
      "outputs": [
        {
          "output_type": "stream",
          "name": "stdout",
          "text": [
            "   Cylinders  Displacement Horsepower  Weight  Acceleration  Model Year  \\\n",
            "0          8         307.0      130.0  3504.0          12.0          70   \n",
            "1          8         350.0      165.0  3693.0          11.5          70   \n",
            "2          8         318.0      150.0  3436.0          11.0          70   \n",
            "3          8         304.0      150.0  3433.0          12.0          70   \n",
            "4          8         302.0      140.0  3449.0          10.5          70   \n",
            "\n",
            "   Origin  \n",
            "0       1  \n",
            "1       1  \n",
            "2       1  \n",
            "3       1  \n",
            "4       1  \n",
            "0    18.0\n",
            "1    15.0\n",
            "2    18.0\n",
            "3    16.0\n",
            "4    17.0\n",
            "Name: MPG, dtype: float64\n"
          ]
        }
      ]
    },
    {
      "cell_type": "code",
      "source": [
        "x_val.insert(0,'Intercept',[1 for i in range(len(orig_data))] )\n",
        "print(x_val.head())"
      ],
      "metadata": {
        "colab": {
          "base_uri": "https://localhost:8080/"
        },
        "id": "vMpXpFRg3Fa8",
        "outputId": "487e0d55-ad66-461b-8faf-8a06633e4982"
      },
      "execution_count": null,
      "outputs": [
        {
          "output_type": "stream",
          "name": "stdout",
          "text": [
            "   Intercept  Cylinders  Displacement Horsepower  Weight  Acceleration  \\\n",
            "0          1          8         307.0      130.0  3504.0          12.0   \n",
            "1          1          8         350.0      165.0  3693.0          11.5   \n",
            "2          1          8         318.0      150.0  3436.0          11.0   \n",
            "3          1          8         304.0      150.0  3433.0          12.0   \n",
            "4          1          8         302.0      140.0  3449.0          10.5   \n",
            "\n",
            "   Model Year  Origin  \n",
            "0          70       1  \n",
            "1          70       1  \n",
            "2          70       1  \n",
            "3          70       1  \n",
            "4          70       1  \n"
          ]
        }
      ]
    },
    {
      "cell_type": "code",
      "source": [
        "print(x_val.isnull().values.any())"
      ],
      "metadata": {
        "colab": {
          "base_uri": "https://localhost:8080/"
        },
        "id": "CaoDWGTM59nD",
        "outputId": "82617d78-9b8f-491c-8169-a451be68e7f9"
      },
      "execution_count": null,
      "outputs": [
        {
          "output_type": "stream",
          "name": "stdout",
          "text": [
            "False\n"
          ]
        }
      ]
    },
    {
      "cell_type": "code",
      "source": [
        "x_train, x_test, y_train, y_test = train_test_split(x_val, y_val, test_size=0.30, random_state=0)"
      ],
      "metadata": {
        "id": "WHFHUC5F2DVJ"
      },
      "execution_count": null,
      "outputs": []
    },
    {
      "cell_type": "code",
      "source": [
        "linReg = LinearRegression(fit_intercept=False)\n",
        "linReg.fit(x_train,y_train)\n",
        "print(linReg.coef_)"
      ],
      "metadata": {
        "colab": {
          "base_uri": "https://localhost:8080/"
        },
        "id": "ucpWeCGjx0lA",
        "outputId": "0dc1b2ab-5ba5-4d48-c0df-a142ca41d44a"
      },
      "execution_count": null,
      "outputs": [
        {
          "output_type": "stream",
          "name": "stdout",
          "text": [
            "[-1.44624459e+01 -4.30957038e-01  1.23576360e-02 -1.25320111e-02\n",
            " -6.13800379e-03  6.08464933e-02  7.17671633e-01  1.14356485e+00]\n"
          ]
        }
      ]
    },
    {
      "cell_type": "code",
      "source": [
        "predVals = linReg.predict(x_test)"
      ],
      "metadata": {
        "id": "vm-O2aE0n--h"
      },
      "execution_count": 12,
      "outputs": []
    },
    {
      "cell_type": "code",
      "source": [
        "from sklearn.metrics import mean_squared_error\n",
        "mean_squared_error(y_test, predVals)"
      ],
      "metadata": {
        "colab": {
          "base_uri": "https://localhost:8080/"
        },
        "id": "3yW_0duXo-8D",
        "outputId": "e028116e-f0b3-4409-981d-abf95cf71a90"
      },
      "execution_count": 13,
      "outputs": [
        {
          "output_type": "execute_result",
          "data": {
            "text/plain": [
              "11.125530446601296"
            ]
          },
          "metadata": {},
          "execution_count": 13
        }
      ]
    },
    {
      "cell_type": "code",
      "source": [
        "from sklearn.metrics import r2_score\n",
        "r2_score(y_test, predVals)"
      ],
      "metadata": {
        "colab": {
          "base_uri": "https://localhost:8080/"
        },
        "id": "YuQ413yFphBD",
        "outputId": "543b2bb5-f7ff-4411-9bf4-c81397916280"
      },
      "execution_count": 14,
      "outputs": [
        {
          "output_type": "execute_result",
          "data": {
            "text/plain": [
              "0.8191428142279151"
            ]
          },
          "metadata": {},
          "execution_count": 14
        }
      ]
    }
  ]
}